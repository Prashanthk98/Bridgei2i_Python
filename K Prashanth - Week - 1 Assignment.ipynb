{
 "cells": [
  {
   "cell_type": "markdown",
   "metadata": {
    "collapsed": true
   },
   "source": [
    "# \"Hello world\" in Python!"
   ]
  },
  {
   "cell_type": "markdown",
   "metadata": {},
   "source": [
    "When programmers are learning a new language, we tend to write a one-line program that prints some version of the message \"Hello world!\" this is a simple program that shows whether your computer is properly set up to run Python programs."
   ]
  },
  {
   "cell_type": "code",
   "execution_count": 3,
   "metadata": {},
   "outputs": [
    {
     "name": "stdout",
     "output_type": "stream",
     "text": [
      "Hello Python world!\n"
     ]
    }
   ],
   "source": [
    "print('Hello Python world!')"
   ]
  },
  {
   "cell_type": "markdown",
   "metadata": {},
   "source": [
    "If it works, congratulations! You just ran your first Python program."
   ]
  },
  {
   "cell_type": "markdown",
   "metadata": {},
   "source": [
    "#### Hello World - variable\n",
    "\n",
    "- Store your own version of the message \"Hello World\" in a variable, and print it."
   ]
  },
  {
   "cell_type": "code",
   "execution_count": 4,
   "metadata": {},
   "outputs": [
    {
     "name": "stdout",
     "output_type": "stream",
     "text": [
      "Hello Bridgei2i\n"
     ]
    }
   ],
   "source": [
    "msg = \"Hello Bridgei2i\"\n",
    "print(msg)"
   ]
  },
  {
   "cell_type": "code",
   "execution_count": 5,
   "metadata": {},
   "outputs": [
    {
     "name": "stdout",
     "output_type": "stream",
     "text": [
      "Hi\n",
      "Hey\n"
     ]
    }
   ],
   "source": [
    "msg1 = \"Hi\"\n",
    "print(msg1)\n",
    "msg1 = \"Hey\"\n",
    "print(msg1)"
   ]
  },
  {
   "cell_type": "markdown",
   "metadata": {},
   "source": [
    "#### One Variable, Two Messages:\n",
    "- Store a message in a variable, and then print that message.\n",
    "- Store a new message in the same variable, and then print that new message."
   ]
  },
  {
   "cell_type": "code",
   "execution_count": 6,
   "metadata": {},
   "outputs": [
    {
     "name": "stdout",
     "output_type": "stream",
     "text": [
      "\"Ken Thompson once said, 'One of my most productive days was throwing away 1000 lines of code\"\n"
     ]
    }
   ],
   "source": [
    "quote = \"\\\"Ken Thompson once said, 'One of my most productive days was throwing away 1000 lines of code\\\"\"\n",
    "print(quote)"
   ]
  },
  {
   "cell_type": "markdown",
   "metadata": {},
   "source": [
    "#### Someone Said\n",
    "- Find a quote that you like. Store the quote in a variable, with an appropriate introduction such as \"Ken Thompson once said, 'One of my most productive days was throwing away 1000 lines of code'\". Print the quote."
   ]
  },
  {
   "cell_type": "code",
   "execution_count": 7,
   "metadata": {},
   "outputs": [],
   "source": [
    "fname = \"prashanth\""
   ]
  },
  {
   "cell_type": "markdown",
   "metadata": {},
   "source": [
    "#### First Name Cases\n",
    "- Store your first name, in lowercase, in a variable."
   ]
  },
  {
   "cell_type": "code",
   "execution_count": 8,
   "metadata": {},
   "outputs": [
    {
     "name": "stdout",
     "output_type": "stream",
     "text": [
      "prashanth\n",
      "PRASHANTH\n",
      "Prashanth\n"
     ]
    }
   ],
   "source": [
    "print(fname)\n",
    "print(fname.upper())\n",
    "print(fname.title())"
   ]
  },
  {
   "cell_type": "markdown",
   "metadata": {},
   "source": [
    "- Using that one variable, print your name in lowercase, Titlecase, and UPPERCASE."
   ]
  },
  {
   "cell_type": "code",
   "execution_count": 9,
   "metadata": {},
   "outputs": [
    {
     "name": "stdout",
     "output_type": "stream",
     "text": [
      "Prashanth K\n"
     ]
    }
   ],
   "source": [
    "fname = \"Prashanth\"\n",
    "lname = \"K\"\n",
    "print(fname+\" \"+lname)"
   ]
  },
  {
   "cell_type": "markdown",
   "metadata": {},
   "source": [
    "#### Full Name\n",
    "- Store your first name and last name in separate variables, and then combine them to print out your full name."
   ]
  },
  {
   "cell_type": "code",
   "execution_count": 10,
   "metadata": {},
   "outputs": [
    {
     "name": "stdout",
     "output_type": "stream",
     "text": [
      " Prashanth K \n"
     ]
    }
   ],
   "source": [
    "name = \" Prashanth K \"\n",
    "print(name)"
   ]
  },
  {
   "cell_type": "markdown",
   "metadata": {},
   "source": [
    "- Store your first name in a variable, but include at least two kinds of whitespace on each side of your name.\n",
    "- Print your name as it is stored."
   ]
  },
  {
   "cell_type": "code",
   "execution_count": 11,
   "metadata": {},
   "outputs": [
    {
     "name": "stdout",
     "output_type": "stream",
     "text": [
      "Prashanth K \n",
      " Prashanth K\n",
      "Prashanth K\n"
     ]
    }
   ],
   "source": [
    "print(name.lstrip())\n",
    "print(name.rstrip())\n",
    "print(name.strip())"
   ]
  },
  {
   "cell_type": "markdown",
   "metadata": {},
   "source": [
    "- Print your name with whitespace stripped from the left side, then from the right side, then from both sides."
   ]
  },
  {
   "cell_type": "code",
   "execution_count": 12,
   "metadata": {},
   "outputs": [
    {
     "name": "stdout",
     "output_type": "stream",
     "text": [
      "70\n",
      "30\n",
      "1000\n",
      "2.5\n",
      "9536743164062500000000000000000000\n"
     ]
    }
   ],
   "source": [
    "def cal(a,b):\n",
    "    add = a+b\n",
    "    sub = b-a if a<b else a-b\n",
    "    mul = a*b\n",
    "    div = b/a if a<b else a/b\n",
    "    exp = a**b\n",
    "    print(add)\n",
    "    print(sub)\n",
    "    print(mul)\n",
    "    print(div)\n",
    "    print(exp)\n",
    "cal(50,20)"
   ]
  },
  {
   "cell_type": "markdown",
   "metadata": {},
   "source": [
    "#### Arithmetic\n",
    "- Write a program that prints out the results of at least one calculation for each of the basic operations: addition, subtraction, multiplication, division, and exponents."
   ]
  },
  {
   "cell_type": "code",
   "execution_count": 13,
   "metadata": {},
   "outputs": [
    {
     "name": "stdout",
     "output_type": "stream",
     "text": [
      "1.6666666666666679\n"
     ]
    }
   ],
   "source": [
    "res = (2/3.0)+24-(23%25)\n",
    "print(res)"
   ]
  },
  {
   "cell_type": "markdown",
   "metadata": {},
   "source": [
    "#### Order of Operations\n",
    "- Find a calculation whose result depends on the order of operations. (Ex - *2/3.0+24-23%25*)\n",
    "- Print the result of this calculation using the standard order of operations.\n"
   ]
  },
  {
   "cell_type": "code",
   "execution_count": 14,
   "metadata": {},
   "outputs": [],
   "source": [
    "#Nothing much to do here, Just write at least one comment in the next cell :p"
   ]
  },
  {
   "cell_type": "markdown",
   "metadata": {},
   "source": [
    "#### First Comments\n",
    "- Nothing much to do here, Just write at least one comment in the next cell :p\n"
   ]
  },
  {
   "cell_type": "code",
   "execution_count": 15,
   "metadata": {},
   "outputs": [],
   "source": [
    "string = 'LEGO Batch 2018'"
   ]
  },
  {
   "cell_type": "code",
   "execution_count": 16,
   "metadata": {},
   "outputs": [
    {
     "name": "stdout",
     "output_type": "stream",
     "text": [
      "-----------------LEGO Batch 2018------------------\n"
     ]
    }
   ],
   "source": [
    "print(string.center(50, '-'))"
   ]
  },
  {
   "cell_type": "code",
   "execution_count": 17,
   "metadata": {},
   "outputs": [],
   "source": [
    "string = 'LEGO Batch 2018'"
   ]
  },
  {
   "cell_type": "markdown",
   "metadata": {},
   "source": [
    "\n",
    "- Print the above string using centre() function like this :\n",
    "\n",
    "-------------------------------LEGO Batch 2018-------------------------------"
   ]
  },
  {
   "cell_type": "code",
   "execution_count": 18,
   "metadata": {},
   "outputs": [
    {
     "name": "stdout",
     "output_type": "stream",
     "text": [
      "string does not end with batch\n"
     ]
    }
   ],
   "source": [
    "l = string.split()\n",
    "if l[len(l)-1] == 'batch':\n",
    "    print(\"string ends with batch\")\n",
    "else:\n",
    "    print(\"string does not end with batch\")"
   ]
  },
  {
   "cell_type": "markdown",
   "metadata": {},
   "source": [
    "- Check the string if its ending with 'batch'"
   ]
  },
  {
   "cell_type": "code",
   "execution_count": 19,
   "metadata": {},
   "outputs": [
    {
     "name": "stdout",
     "output_type": "stream",
     "text": [
      "Tab\tSpace\n"
     ]
    }
   ],
   "source": [
    "tab = 'Tab\\tSpace'\n",
    "l = \"\"\n",
    "for i in tab:\n",
    "    l = l+i\n",
    "print(l)"
   ]
  },
  {
   "cell_type": "code",
   "execution_count": 20,
   "metadata": {},
   "outputs": [],
   "source": [
    "tab = 'Tab\\tSpace'"
   ]
  },
  {
   "cell_type": "markdown",
   "metadata": {},
   "source": [
    "- Expand the string 'tab' by changing the \\t to a tab space"
   ]
  },
  {
   "cell_type": "code",
   "execution_count": 21,
   "metadata": {},
   "outputs": [
    {
     "name": "stdout",
     "output_type": "stream",
     "text": [
      "[2, 4, 6, 8]\n"
     ]
    }
   ],
   "source": [
    "l = [1,2,3,4,5,6,7,8] \n",
    "even = list(filter(lambda l : l%2==0, l))\n",
    "print(even)"
   ]
  },
  {
   "cell_type": "code",
   "execution_count": 22,
   "metadata": {},
   "outputs": [],
   "source": [
    "l = [1,2,3,4,5,6,7,8]"
   ]
  },
  {
   "cell_type": "markdown",
   "metadata": {},
   "source": [
    "- Print the even postions from the list"
   ]
  },
  {
   "cell_type": "code",
   "execution_count": 23,
   "metadata": {},
   "outputs": [
    {
     "name": "stdout",
     "output_type": "stream",
     "text": [
      "['L', 'E', 'G', 'O', ' ', 'B', 'a', 't', 'c', 'h', ' ', '2', '0', '1', '8']\n"
     ]
    }
   ],
   "source": [
    "s = 'LEGO Batch 2018' \n",
    "l = [i for i in s]\n",
    "print(l)"
   ]
  },
  {
   "cell_type": "code",
   "execution_count": 24,
   "metadata": {},
   "outputs": [],
   "source": [
    "s = 'LEGO Batch 2018'"
   ]
  },
  {
   "cell_type": "markdown",
   "metadata": {},
   "source": [
    "- Store each char of the string 's' onto a list"
   ]
  },
  {
   "cell_type": "code",
   "execution_count": 25,
   "metadata": {},
   "outputs": [
    {
     "name": "stdout",
     "output_type": "stream",
     "text": [
      "['L', 'E', 'g', 'O', ' ', 'B', 'a', 't', 'c', 'h', ' ', '2', '0', '1', '8']\n"
     ]
    }
   ],
   "source": [
    "l[2] = l[2].lower()\n",
    "print(l)"
   ]
  },
  {
   "cell_type": "markdown",
   "metadata": {},
   "source": [
    "- Replace the 3rd letter in the string to its lower case"
   ]
  },
  {
   "cell_type": "code",
   "execution_count": 26,
   "metadata": {},
   "outputs": [
    {
     "name": "stdout",
     "output_type": "stream",
     "text": [
      "['L', 'E', 'g', 't', 'O', ' ', 'B', 'a', 't', 'c', 'h', ' ', '2', '0', '1', '8']\n"
     ]
    }
   ],
   "source": [
    "l.insert(3,\"t\")\n",
    "print(l)"
   ]
  },
  {
   "cell_type": "markdown",
   "metadata": {},
   "source": [
    " - Insert 't' in the 3rd position"
   ]
  },
  {
   "cell_type": "code",
   "execution_count": 27,
   "metadata": {},
   "outputs": [
    {
     "name": "stdout",
     "output_type": "stream",
     "text": [
      "['L', 'E', 'g', 'O', ' ', 'B', 'a', 't', 'c', 'h', ' ', '2', '0', '1', '8']\n"
     ]
    }
   ],
   "source": [
    "l.remove(l[3])\n",
    "print(l)"
   ]
  },
  {
   "cell_type": "markdown",
   "metadata": {},
   "source": [
    "- Now delete the 3rd letter\n"
   ]
  },
  {
   "cell_type": "code",
   "execution_count": 28,
   "metadata": {},
   "outputs": [
    {
     "name": "stdout",
     "output_type": "stream",
     "text": [
      "['L', 'E', 'g', 'O', ' ', 'B', 'o', 'a', 't', 'c', 'h', ' ', '2', '0', '1', '8']\n"
     ]
    }
   ],
   "source": [
    "for i in l:\n",
    "    if i == 'B':\n",
    "        l.insert(l.index(i)+1, 'o')\n",
    "print(l)"
   ]
  },
  {
   "cell_type": "markdown",
   "metadata": {},
   "source": [
    "- Insert the letter 'o' after 'B' in the string  "
   ]
  },
  {
   "cell_type": "code",
   "execution_count": 29,
   "metadata": {},
   "outputs": [],
   "source": [
    "l = l[::-1]"
   ]
  },
  {
   "cell_type": "markdown",
   "metadata": {},
   "source": [
    "- Reverse the String"
   ]
  },
  {
   "cell_type": "code",
   "execution_count": 30,
   "metadata": {},
   "outputs": [
    {
     "name": "stdout",
     "output_type": "stream",
     "text": [
      "['8', '1', '0', '2', ' ', 'h', 'c', 't', 'a', 'o', 'B', ' ', 'O', 'g', 'E', 'L']\n"
     ]
    }
   ],
   "source": [
    "print(l)"
   ]
  },
  {
   "cell_type": "code",
   "execution_count": 31,
   "metadata": {},
   "outputs": [],
   "source": [
    "career = ['analyst','tester','programmer','truck driver']"
   ]
  },
  {
   "cell_type": "markdown",
   "metadata": {},
   "source": [
    "- Make a list that includes four careers, such as 'analyst','tester','programmer','truck driver' etc.\n"
   ]
  },
  {
   "cell_type": "code",
   "execution_count": 32,
   "metadata": {},
   "outputs": [
    {
     "data": {
      "text/plain": [
       "1"
      ]
     },
     "execution_count": 32,
     "metadata": {},
     "output_type": "execute_result"
    }
   ],
   "source": [
    "career.index('tester')"
   ]
  },
  {
   "cell_type": "markdown",
   "metadata": {},
   "source": [
    "- Find the index of 'tester' in your list.\n"
   ]
  },
  {
   "cell_type": "code",
   "execution_count": 33,
   "metadata": {},
   "outputs": [
    {
     "name": "stdout",
     "output_type": "stream",
     "text": [
      "Present\n"
     ]
    }
   ],
   "source": [
    "for i in career:\n",
    "    if i == 'programmer':\n",
    "        print(\"Present\")"
   ]
  },
  {
   "cell_type": "markdown",
   "metadata": {},
   "source": [
    "- Show wheather 'programmer' career is in your list."
   ]
  },
  {
   "cell_type": "code",
   "execution_count": 34,
   "metadata": {},
   "outputs": [
    {
     "name": "stdout",
     "output_type": "stream",
     "text": [
      "['analyst', 'tester', 'programmer', 'truck driver', 'Software Engineer']\n"
     ]
    }
   ],
   "source": [
    "career.append(\"Software Engineer\")\n",
    "print(career)"
   ]
  },
  {
   "cell_type": "markdown",
   "metadata": {},
   "source": [
    "- Add a new career to your list at the last."
   ]
  },
  {
   "cell_type": "code",
   "execution_count": 35,
   "metadata": {},
   "outputs": [
    {
     "name": "stdout",
     "output_type": "stream",
     "text": [
      "['Data Engineer', 'analyst', 'tester', 'programmer', 'truck driver', 'Software Engineer']\n"
     ]
    }
   ],
   "source": [
    "career.insert(0,\"Data Engineer\")\n",
    "print(career)"
   ]
  },
  {
   "cell_type": "markdown",
   "metadata": {},
   "source": [
    "- Insert a new career at the beginning of the list."
   ]
  },
  {
   "cell_type": "code",
   "execution_count": 36,
   "metadata": {},
   "outputs": [
    {
     "name": "stdout",
     "output_type": "stream",
     "text": [
      "Data Engineer\n",
      "analyst\n",
      "tester\n",
      "programmer\n",
      "truck driver\n",
      "Software Engineer\n"
     ]
    }
   ],
   "source": [
    "for i in career:\n",
    "    print(i)"
   ]
  },
  {
   "cell_type": "markdown",
   "metadata": {},
   "source": [
    "\n",
    "- Use a loop to show all the careers in your list."
   ]
  },
  {
   "cell_type": "code",
   "execution_count": 37,
   "metadata": {},
   "outputs": [
    {
     "name": "stdout",
     "output_type": "stream",
     "text": [
      "['tester', 'analyst', 'programmer', 'truck driver', 'Data Engineer', 'Software Engineer']\n",
      "['Software Engineer', 'Data Engineer', 'truck driver', 'programmer', 'analyst', 'tester']\n"
     ]
    }
   ],
   "source": [
    "def s_asc(l):\n",
    "    print(sorted(l,key=len))\n",
    "def s_dsc(l):\n",
    "    l1 = sorted(l,key=len)\n",
    "    l1 = l1[::-1]\n",
    "    print(l1)\n",
    "s_asc(career)\n",
    "s_dsc(career)"
   ]
  },
  {
   "cell_type": "markdown",
   "metadata": {},
   "source": [
    "- Print the list by sorting based on the length of the strings.(both Ascending and Descending)    "
   ]
  },
  {
   "cell_type": "code",
   "execution_count": 38,
   "metadata": {},
   "outputs": [
    {
     "name": "stdout",
     "output_type": "stream",
     "text": [
      "[2, 6, 6, 8, 12, 34, 45, 77]\n"
     ]
    }
   ],
   "source": [
    "l = [12,34,2,45,6,6,77,8] \n",
    "l1 = sorted(l)\n",
    "print(l1)"
   ]
  },
  {
   "cell_type": "code",
   "execution_count": 39,
   "metadata": {},
   "outputs": [],
   "source": [
    "l = [12,34,2,45,6,6,77,8]"
   ]
  },
  {
   "cell_type": "markdown",
   "metadata": {},
   "source": [
    "- Print the numbers in increasing order."
   ]
  },
  {
   "cell_type": "code",
   "execution_count": 40,
   "metadata": {},
   "outputs": [
    {
     "name": "stdout",
     "output_type": "stream",
     "text": [
      "[77, 45, 34, 12, 8, 6, 6, 2]\n"
     ]
    }
   ],
   "source": [
    "print(l1[::-1])"
   ]
  },
  {
   "cell_type": "markdown",
   "metadata": {},
   "source": [
    "- Print the numbers in decreasing order."
   ]
  },
  {
   "cell_type": "code",
   "execution_count": 41,
   "metadata": {},
   "outputs": [
    {
     "name": "stdout",
     "output_type": "stream",
     "text": [
      "[12, 34, 2, 45, 6, 6, 77, 8]\n"
     ]
    }
   ],
   "source": [
    "print(l)"
   ]
  },
  {
   "cell_type": "markdown",
   "metadata": {},
   "source": [
    "- Print the numbers in their original order.\n"
   ]
  },
  {
   "cell_type": "code",
   "execution_count": 42,
   "metadata": {},
   "outputs": [
    {
     "name": "stdout",
     "output_type": "stream",
     "text": [
      "8\n",
      "34\n"
     ]
    }
   ],
   "source": [
    "print(l.pop())\n",
    "print(l.pop(1))"
   ]
  },
  {
   "cell_type": "markdown",
   "metadata": {},
   "source": [
    "- Pop the last item from the list, and pop any item except the last item."
   ]
  },
  {
   "cell_type": "code",
   "execution_count": 43,
   "metadata": {},
   "outputs": [
    {
     "name": "stdout",
     "output_type": "stream",
     "text": [
      "[12, 2, 6, 6]\n"
     ]
    }
   ],
   "source": [
    "l.remove(l[2])\n",
    "l.remove(77)\n",
    "print(l)"
   ]
  },
  {
   "cell_type": "markdown",
   "metadata": {},
   "source": [
    "- Remove one item on the 3rd position, and one item by its value which is 77."
   ]
  },
  {
   "cell_type": "code",
   "execution_count": 44,
   "metadata": {},
   "outputs": [
    {
     "name": "stdout",
     "output_type": "stream",
     "text": [
      "['A', 'B', 'C', 'D', 'E', 'F', 'G', 'H', 'I', 'J']\n"
     ]
    }
   ],
   "source": [
    "alp = []\n",
    "for i in range(65,65+10):\n",
    "    alp.append(chr(i))\n",
    "print(alp)"
   ]
  },
  {
   "cell_type": "markdown",
   "metadata": {},
   "source": [
    "- Store the first ten letters of the alphabet in a list.\n"
   ]
  },
  {
   "cell_type": "code",
   "execution_count": 45,
   "metadata": {},
   "outputs": [
    {
     "data": {
      "text/plain": [
       "['A', 'B', 'C']"
      ]
     },
     "execution_count": 45,
     "metadata": {},
     "output_type": "execute_result"
    }
   ],
   "source": [
    "alp[0:3]"
   ]
  },
  {
   "cell_type": "markdown",
   "metadata": {},
   "source": [
    "- Use a slice to print out the first three letters of the alphabet.\n"
   ]
  },
  {
   "cell_type": "code",
   "execution_count": 46,
   "metadata": {},
   "outputs": [
    {
     "data": {
      "text/plain": [
       "['D', 'E', 'F']"
      ]
     },
     "execution_count": 46,
     "metadata": {},
     "output_type": "execute_result"
    }
   ],
   "source": [
    "alp[3:6]"
   ]
  },
  {
   "cell_type": "markdown",
   "metadata": {},
   "source": [
    "- Use a slice to print out any three letters from the middle of your list.\n"
   ]
  },
  {
   "cell_type": "code",
   "execution_count": 47,
   "metadata": {},
   "outputs": [
    {
     "data": {
      "text/plain": [
       "['G', 'H', 'I', 'J']"
      ]
     },
     "execution_count": 47,
     "metadata": {},
     "output_type": "execute_result"
    }
   ],
   "source": [
    "alp[6:]"
   ]
  },
  {
   "cell_type": "markdown",
   "metadata": {},
   "source": [
    "- Use a slice to print out the letters from any point in the middle of your list, to the end.\n"
   ]
  },
  {
   "cell_type": "code",
   "execution_count": 48,
   "metadata": {},
   "outputs": [
    {
     "name": "stdout",
     "output_type": "stream",
     "text": [
      "Max : 38\n",
      "Min : 11\n",
      "Sum : 149\n"
     ]
    }
   ],
   "source": [
    "ages = [23, 16, 14, 28, 19, 11, 38]\n",
    "print(\"Max :\", max(ages))\n",
    "print(\"Min :\", min(ages))\n",
    "print(\"Sum :\", sum(ages))"
   ]
  },
  {
   "cell_type": "markdown",
   "metadata": {},
   "source": [
    "- Find the maximum,minimum and sum of ages from the list"
   ]
  },
  {
   "cell_type": "code",
   "execution_count": 49,
   "metadata": {},
   "outputs": [
    {
     "name": "stdout",
     "output_type": "stream",
     "text": [
      "[10, 20, 30, 40, 50, 60, 70, 80, 90, 100]\n"
     ]
    }
   ],
   "source": [
    "t = []\n",
    "for i in range(1,11):\n",
    "    t.append(10*i)\n",
    "print(t)"
   ]
  },
  {
   "cell_type": "markdown",
   "metadata": {},
   "source": [
    "- Make a list of the first ten multiples of ten (10, 20, 30... 90, 100)."
   ]
  },
  {
   "cell_type": "code",
   "execution_count": 50,
   "metadata": {},
   "outputs": [
    {
     "name": "stdout",
     "output_type": "stream",
     "text": [
      "[10, 20, 30, 40, 50, 60, 70, 80, 90, 100]\n"
     ]
    }
   ],
   "source": [
    "t = []\n",
    "def cube(t):\n",
    "    for i in range(1,11):\n",
    "        t.append(10*i)\n",
    "cube(t)\n",
    "print(t)"
   ]
  },
  {
   "cell_type": "markdown",
   "metadata": {},
   "source": [
    "- Make a list of the first ten cubes (1, 8, 27... 1000) using a list comprehension, and print them out."
   ]
  },
  {
   "cell_type": "code",
   "execution_count": 51,
   "metadata": {},
   "outputs": [
    {
     "name": "stdout",
     "output_type": "stream",
     "text": [
      "L\n",
      "E\n",
      "G\n",
      "O\n",
      " \n",
      "B\n",
      "a\n",
      "t\n",
      "c\n",
      "h\n",
      " \n",
      "2\n",
      "0\n",
      "2\n",
      "0\n",
      "-\n",
      "J\n",
      "u\n",
      "l\n",
      "y\n"
     ]
    }
   ],
   "source": [
    "st = 'LEGO Batch 2020-July' \n",
    "for i in st:\n",
    "    print(i)"
   ]
  },
  {
   "cell_type": "markdown",
   "metadata": {},
   "source": [
    "- Store 'LEGO Batch 2020-July' in a variable. Use a for loop to print each character from your sentence on a separate line."
   ]
  },
  {
   "cell_type": "code",
   "execution_count": 52,
   "metadata": {},
   "outputs": [
    {
     "name": "stdout",
     "output_type": "stream",
     "text": [
      "LEG\n",
      "at\n",
      "July\n"
     ]
    }
   ],
   "source": [
    "print(st[0:3])\n",
    "print(st[6:8])\n",
    "print(st[-4:])"
   ]
  },
  {
   "cell_type": "markdown",
   "metadata": {},
   "source": [
    "- Print out the first 3 characters, any middle 2 consecutive characters, and the last 3 characters of each word in the sentence."
   ]
  },
  {
   "cell_type": "code",
   "execution_count": 53,
   "metadata": {},
   "outputs": [
    {
     "name": "stdout",
     "output_type": "stream",
     "text": [
      "Does notappear first\n"
     ]
    }
   ],
   "source": [
    "s = 'Its Python Python python PYTHON Python'\n",
    "sh = s.split()\n",
    "if sh[0]==\"Python\":\n",
    "    print(\"Appears First\")\n",
    "else:\n",
    "    print(\"Does notappear first\")"
   ]
  },
  {
   "cell_type": "code",
   "execution_count": 54,
   "metadata": {},
   "outputs": [],
   "source": [
    "s = 'Its Python Python python PYTHON Python'"
   ]
  },
  {
   "cell_type": "markdown",
   "metadata": {},
   "source": [
    "- Show where the word *Python* first appears in the sentence."
   ]
  },
  {
   "cell_type": "code",
   "execution_count": 55,
   "metadata": {},
   "outputs": [
    {
     "name": "stdout",
     "output_type": "stream",
     "text": [
      "Appears Last\n"
     ]
    }
   ],
   "source": [
    "s = 'Its Python Python python PYTHON Python'\n",
    "sh = s.split()\n",
    "if sh[-1]==\"Python\":\n",
    "    print(\"Appears Last\")\n",
    "else:\n",
    "    print(\"Does notappear Last\")"
   ]
  },
  {
   "cell_type": "markdown",
   "metadata": {},
   "source": [
    "- Show the last place *Python* appears in the sentence."
   ]
  },
  {
   "cell_type": "code",
   "execution_count": 56,
   "metadata": {},
   "outputs": [
    {
     "name": "stdout",
     "output_type": "stream",
     "text": [
      "3\n"
     ]
    }
   ],
   "source": [
    "c = 0\n",
    "for i in sh:\n",
    "    if i == \"Python\":\n",
    "        c +=1\n",
    "print(c)"
   ]
  },
  {
   "cell_type": "markdown",
   "metadata": {},
   "source": [
    "- Show how many times the word *Python* appears in your sentence."
   ]
  },
  {
   "cell_type": "code",
   "execution_count": 57,
   "metadata": {},
   "outputs": [
    {
     "name": "stdout",
     "output_type": "stream",
     "text": [
      "['Its', 'Python', 'Python', 'python', 'PYTHON', 'Python']\n",
      "Its\n",
      "Python\n",
      "Python\n",
      "python\n",
      "PYTHON\n",
      "Python\n"
     ]
    }
   ],
   "source": [
    "print(sh)\n",
    "for i in sh:\n",
    "    print(i)"
   ]
  },
  {
   "cell_type": "markdown",
   "metadata": {},
   "source": [
    "- Break your sentence into a list of words. Print the raw list, and use a loop to print each word on its own line."
   ]
  },
  {
   "cell_type": "code",
   "execution_count": 58,
   "metadata": {},
   "outputs": [
    {
     "name": "stdout",
     "output_type": "stream",
     "text": [
      "Its Ruby Ruby python PYTHON Ruby \n"
     ]
    }
   ],
   "source": [
    "sh1 = []\n",
    "for i in sh:\n",
    "    if i == \"Python\":\n",
    "        sh1.append(\"Ruby\")\n",
    "    else:\n",
    "        sh1.append(i)\n",
    "sen = \"\"\n",
    "for i in sh1:\n",
    "    sen +=i+\" \"\n",
    "print(sen)"
   ]
  },
  {
   "cell_type": "markdown",
   "metadata": {},
   "source": [
    "- Change *Python* to *Ruby* in your sentence."
   ]
  },
  {
   "cell_type": "code",
   "execution_count": 59,
   "metadata": {},
   "outputs": [
    {
     "name": "stdout",
     "output_type": "stream",
     "text": [
      "The lowest possible score is : 5\n",
      "The highest possible score is :  9\n",
      "A judge can give a gymnast total : 28 points\n"
     ]
    }
   ],
   "source": [
    "sc = (6,9,8,5)\n",
    "print(\"The lowest possible score is :\", min(sc))\n",
    "print(\"The highest possible score is : \", max(sc))\n",
    "print(\"A judge can give a gymnast total :\", sum(sc),\"points\")"
   ]
  },
  {
   "cell_type": "markdown",
   "metadata": {},
   "source": [
    "#### Gymnast Scores\n",
    "- A gymnast can earn a score between 1 and 10 from each judge; nothing lower, nothing higher. All scores are integer values; there are no decimal scores from a single judge.\n",
    "- Store the possible scores a gymnast can earn from one judge in a tuple.\n",
    "- Print out the sentence, \"The lowest possible score is \\_\\_\\_, and the highest possible score is \\_\\_\\_.\" Use the values from your tuple.\n",
    "- Print out a series of sentences, \"A judge can give a gymnast ___ points.\""
   ]
  },
  {
   "cell_type": "code",
   "execution_count": 60,
   "metadata": {},
   "outputs": [],
   "source": [
    "d = {\"Tom\":\"cat\",\"Johnny\":\"dog\",\"Jerry\":\"cat\"}"
   ]
  },
  {
   "cell_type": "markdown",
   "metadata": {},
   "source": [
    "#### Pet Names\n",
    "- Create a dictionary to hold information about pets. Each key is an animal's name, and each value is the kind of animal.\n",
    "    - For example, 'Willie': 'dog'\n",
    "- Put at least 3 key-value pairs in your dictionary.\n"
   ]
  },
  {
   "cell_type": "code",
   "execution_count": 61,
   "metadata": {},
   "outputs": [
    {
     "name": "stdout",
     "output_type": "stream",
     "text": [
      "Tom is a cat\n",
      "Johnny is a dog\n",
      "Jerry is a cat\n"
     ]
    }
   ],
   "source": [
    "for k,v in d.items():\n",
    "    print(k, \"is a\",v)"
   ]
  },
  {
   "cell_type": "markdown",
   "metadata": {},
   "source": [
    "- Use a for loop to print out a series of statements such as \"Willie is a dog.\""
   ]
  },
  {
   "cell_type": "code",
   "execution_count": 62,
   "metadata": {},
   "outputs": [
    {
     "name": "stdout",
     "output_type": "stream",
     "text": [
      "{'Tom': 'cat', 'Johnny': 'cat', 'Jerry': 'cat'}\n"
     ]
    }
   ],
   "source": [
    "d['Johnny'] = \"cat\"\n",
    "print(d)"
   ]
  },
  {
   "cell_type": "markdown",
   "metadata": {},
   "source": [
    "- Modify one of the values in your dictionary. You could clarify to name a breed, or you could change an animal from a cat to a dog."
   ]
  },
  {
   "cell_type": "code",
   "execution_count": 63,
   "metadata": {},
   "outputs": [
    {
     "name": "stdout",
     "output_type": "stream",
     "text": [
      "{'Tom': 'cat', 'Johnny': 'cat', 'Jerry': 'cat', 'Rocky': 'dog'}\n"
     ]
    }
   ],
   "source": [
    "d[\"Rocky\"] = \"dog\"\n",
    "print(d)"
   ]
  },
  {
   "cell_type": "markdown",
   "metadata": {},
   "source": [
    "- Add a new key-value pair to your dictionary. (*Max : Parrot*)"
   ]
  },
  {
   "cell_type": "code",
   "execution_count": 64,
   "metadata": {},
   "outputs": [
    {
     "name": "stdout",
     "output_type": "stream",
     "text": [
      "{'Tom': 'cat', 'Jerry': 'cat', 'Rocky': 'dog'}\n"
     ]
    }
   ],
   "source": [
    "del d[\"Johnny\"]\n",
    "print(d)"
   ]
  },
  {
   "cell_type": "markdown",
   "metadata": {},
   "source": [
    "- Remove one of the key-value pairs from your dictionary.\n",
    "    "
   ]
  },
  {
   "cell_type": "code",
   "execution_count": 65,
   "metadata": {},
   "outputs": [],
   "source": [
    "m = {\"Mount Everest\":8848,\"K2\":8945 ,\"Kangchenjunga\":5475,\"Lhotse\":4686,\"Makalu\":5456}"
   ]
  },
  {
   "cell_type": "markdown",
   "metadata": {},
   "source": [
    "#### <a name='exercise_mountain_heights'></a>Mountain Heights\n",
    "- Wikipedia has a list of the [tallest mountains in the world](http://en.wikipedia.org/wiki/List_of_mountains_by_elevation), with each mountain's elevation. Pick five mountains from this list.\n",
    "    - Create a dictionary with the mountain names as keys, and the elevations as values.\n",
    "    "
   ]
  },
  {
   "cell_type": "code",
   "execution_count": 66,
   "metadata": {},
   "outputs": [
    {
     "name": "stdout",
     "output_type": "stream",
     "text": [
      "Mount Everest\n",
      "K2\n",
      "Kangchenjunga\n",
      "Lhotse\n",
      "Makalu\n"
     ]
    }
   ],
   "source": [
    "for k in m:\n",
    "    print(k)"
   ]
  },
  {
   "cell_type": "markdown",
   "metadata": {},
   "source": [
    "- Print out just the mountains' names, by looping through the keys of your dictionary.\n",
    "    "
   ]
  },
  {
   "cell_type": "code",
   "execution_count": 67,
   "metadata": {},
   "outputs": [
    {
     "name": "stdout",
     "output_type": "stream",
     "text": [
      "8848\n",
      "8945\n",
      "5475\n",
      "4686\n",
      "5456\n"
     ]
    }
   ],
   "source": [
    "for k in m:\n",
    "    print(m[k])"
   ]
  },
  {
   "cell_type": "markdown",
   "metadata": {},
   "source": [
    "- Print out just the mountains' elevations, by looping through the values of your dictionary.\n",
    "    "
   ]
  },
  {
   "cell_type": "code",
   "execution_count": 68,
   "metadata": {},
   "outputs": [
    {
     "name": "stdout",
     "output_type": "stream",
     "text": [
      "Mount Everest is 8848 meters tall\n",
      "K2 is 8945 meters tall\n",
      "Kangchenjunga is 5475 meters tall\n",
      "Lhotse is 4686 meters tall\n",
      "Makalu is 5456 meters tall\n"
     ]
    }
   ],
   "source": [
    "for k,v in m.items():\n",
    "    print(k,\"is\",v, \"meters tall\")"
   ]
  },
  {
   "cell_type": "markdown",
   "metadata": {},
   "source": [
    "- Get the details of a specific mountain alone, say if its Everest then print \"Everest is 8848 meters tall.\""
   ]
  },
  {
   "cell_type": "code",
   "execution_count": 69,
   "metadata": {},
   "outputs": [
    {
     "name": "stdout",
     "output_type": "stream",
     "text": [
      "{'Mount Everest': 2697, 'K2': 2727, 'Kangchenjunga': 1669, 'Lhotse': 1428, 'Makalu': 1663}\n"
     ]
    }
   ],
   "source": [
    "for k,v in m.items():\n",
    "    m[k] = int(v/3.28)\n",
    "print(m)"
   ]
  },
  {
   "cell_type": "markdown",
   "metadata": {},
   "source": [
    "- The list of [tallest mountains in the world](http://en.wikipedia.org/wiki/List_of_mountains_by_elevation) provided all elevations in meters. Convert each of these elevations to feet, given that a meter is approximately 3.28 feet. You can do these calculations by hand at this point."
   ]
  },
  {
   "cell_type": "code",
   "execution_count": 70,
   "metadata": {},
   "outputs": [
    {
     "name": "stdout",
     "output_type": "stream",
     "text": [
      "{'Mount Everest': [8848, 2697], 'K2': [8945, 2727], 'Kangchenjunga': [5475, 1669], 'Lhotse': [4686, 1428], 'Makalu': [5456, 1663]}\n"
     ]
    }
   ],
   "source": [
    "m1 = {\"Mount Everest\":[8848],\"K2\":[8945] ,\"Kangchenjunga\":[5475],\"Lhotse\":[4686],\"Makalu\":[5456]}\n",
    "for k,v in m1.items():\n",
    "    m1[k].append(int(v[0]/3.28))\n",
    "print(m1)"
   ]
  },
  {
   "cell_type": "markdown",
   "metadata": {},
   "source": [
    "- Create a new dictionary, where the keys of the dictionary are still the mountains' names. This time however, the values of the dictionary should be a list of each mountain's elevation in meters, and then in feet: {'everest': [8848, 29029]}"
   ]
  },
  {
   "cell_type": "code",
   "execution_count": 71,
   "metadata": {},
   "outputs": [
    {
     "name": "stdout",
     "output_type": "stream",
     "text": [
      "8848\n",
      "8945\n",
      "5475\n",
      "4686\n",
      "5456\n"
     ]
    }
   ],
   "source": [
    "for k,v in m1.items():\n",
    "    print(v[0])"
   ]
  },
  {
   "cell_type": "markdown",
   "metadata": {},
   "source": [
    "- Print out just the mountains' elevations in meters, by looping through the values of your dictionary and pulling out the first number from each list."
   ]
  },
  {
   "cell_type": "code",
   "execution_count": 72,
   "metadata": {},
   "outputs": [
    {
     "name": "stdout",
     "output_type": "stream",
     "text": [
      "2697\n",
      "2727\n",
      "1669\n",
      "1428\n",
      "1663\n"
     ]
    }
   ],
   "source": [
    "for k,v in m1.items():\n",
    "    print(v[1])"
   ]
  },
  {
   "cell_type": "markdown",
   "metadata": {},
   "source": [
    "- Print out just the mountains' elevations in feet, by looping through the values of your dictionary and pulling out the second number from each list."
   ]
  },
  {
   "cell_type": "code",
   "execution_count": 73,
   "metadata": {},
   "outputs": [
    {
     "data": {
      "text/plain": [
       "['K2', 'Kangchenjunga', 'Lhotse', 'Makalu', 'Mount Everest']"
      ]
     },
     "execution_count": 73,
     "metadata": {},
     "output_type": "execute_result"
    }
   ],
   "source": [
    "sorted(m1)"
   ]
  },
  {
   "cell_type": "markdown",
   "metadata": {},
   "source": [
    "- Sort the dictionary based on the mountaian name"
   ]
  },
  {
   "cell_type": "code",
   "execution_count": 74,
   "metadata": {},
   "outputs": [],
   "source": [
    "n = {'Mount Everest':{\"elevation\":2697,\"range\":\"Himalayas\"}, \n",
    "     'K2':{\"elevation\":2727,\"range\":\"Karakoram\"},\n",
    "     'Kangchenjunga':{\"elevation\":1669,\"range\":\"Himalayas\"}, \n",
    "     'Lhotse': {\"elevation\":1428,\"range\":\"Himalayas\"}, \n",
    "     'Makalu':{\"elevation\":1663,\"range\":\"Himalayas\"}}"
   ]
  },
  {
   "cell_type": "markdown",
   "metadata": {},
   "source": [
    "- Create a new dictionary, where the keys of the dictionary are once again the mountains' names. This time, the values of the dictionary are another dictionary. This dictionary should contain the elevation in either meters or feet, and the range that contains the mountain. For example: {'everest': {'elevation': 8848, 'range': 'himalaya'}}."
   ]
  },
  {
   "cell_type": "code",
   "execution_count": 103,
   "metadata": {},
   "outputs": [
    {
     "name": "stdout",
     "output_type": "stream",
     "text": [
      "Mount Everest is an 2697 - meter tall mountain in the Himalayas range\n",
      "K2 is an 2727 - meter tall mountain in the Karakoram range\n",
      "Kangchenjunga is an 1669 - meter tall mountain in the Himalayas range\n",
      "Lhotse is an 1428 - meter tall mountain in the Himalayas range\n",
      "Makalu is an 1663 - meter tall mountain in the Himalayas range\n"
     ]
    }
   ],
   "source": [
    "for k,v in n.items():\n",
    "    c = 0\n",
    "    for k1,v1 in v.items():\n",
    "        if c==0:\n",
    "            b = v1\n",
    "            c +=1\n",
    "        elif c==1:\n",
    "            print(k,\"is an\",b,\"- meter tall mountain in the\",v1,\"range\" )\n",
    "           "
   ]
  },
  {
   "cell_type": "markdown",
   "metadata": {},
   "source": [
    "- Print out a series of statements that say everything you know about each mountain: \"Everest is an 8848-meter tall mountain in the Himalaya range.\""
   ]
  },
  {
   "cell_type": "code",
   "execution_count": 106,
   "metadata": {},
   "outputs": [
    {
     "name": "stdout",
     "output_type": "stream",
     "text": [
      "the room being crowded\n"
     ]
    }
   ],
   "source": [
    "l = [\"Prashanth\",\"Sanjay\",\"Manju\",\"Manu\"]\n",
    "if len(l)>=4 and len(l)<=6:\n",
    "    print(\"the room being crowded\")\n",
    "elif len(l) == 2 or len(l) == 3:\n",
    "    print(\"the room not being crowded\")\n",
    "elif len(l)==0:\n",
    "    print(\"the room being empty\")\n",
    "elif len(l)>6:\n",
    "    print(\"there being a mob in the room\")    "
   ]
  },
  {
   "cell_type": "markdown",
   "metadata": {},
   "source": [
    "- Make a list of names that includes at least four people.\n",
    "    - If there are more than 5 people, a message is printed about there being a mob in the room.\n",
    "    - If there are 3-5 people, a message is printed about the room being crowded.\n",
    "    - If there are 1 or 2 people, a message is printed about the room not being crowded.\n",
    "    - If there are no people in the room, a message is printed abou the room being empty."
   ]
  },
  {
   "cell_type": "code",
   "execution_count": 109,
   "metadata": {},
   "outputs": [
    {
     "name": "stdout",
     "output_type": "stream",
     "text": [
      "Enter 1 or 0 : 1\n",
      "Count of iterations : 1\n",
      "Enter 1 or 0 : 1\n",
      "Count of iterations : 2\n",
      "Enter 1 or 0 : 1\n",
      "Count of iterations : 3\n",
      "Enter 1 or 0 : 0\n",
      "exit\n"
     ]
    }
   ],
   "source": [
    "c = 0\n",
    "while(True):\n",
    "    inp = int(input(\"Enter 1 or 0 : \"))\n",
    "    if inp == 1 :\n",
    "        c +=1\n",
    "        print(\"Count of iterations :\",c)\n",
    "        continue\n",
    "    elif inp == 0:\n",
    "        print(\"exit\")\n",
    "        break"
   ]
  },
  {
   "cell_type": "markdown",
   "metadata": {},
   "source": [
    "- Write a while loop which every time accepts 1 or 0, if the user inputs as 1, then go back in the loop by printing the count of iterations of the loop, if 0 exit from the loop saying 'exit' and if its any other input throw an Error message go back again in the loop "
   ]
  },
  {
   "cell_type": "code",
   "execution_count": 110,
   "metadata": {},
   "outputs": [
    {
     "name": "stdout",
     "output_type": "stream",
     "text": [
      "8\n",
      "15\n",
      "40\n"
     ]
    }
   ],
   "source": [
    "def add(a,b):\n",
    "    c = a+b\n",
    "    print(c)\n",
    "add(3,5)\n",
    "add(6,9)\n",
    "add(10,30)"
   ]
  },
  {
   "cell_type": "markdown",
   "metadata": {},
   "source": [
    "#### Addition Calculator\n",
    "- Write a function that takes in two numbers, and adds them together. Make your function print out a sentence showing the two numbers, and the result.\n",
    "- Call your function with three different sets of numbers."
   ]
  },
  {
   "cell_type": "code",
   "execution_count": 112,
   "metadata": {},
   "outputs": [
    {
     "data": {
      "text/plain": [
       "8"
      ]
     },
     "execution_count": 112,
     "metadata": {},
     "output_type": "execute_result"
    }
   ],
   "source": [
    "ad = lambda a,b:a+b\n",
    "ad(3,5)"
   ]
  },
  {
   "cell_type": "markdown",
   "metadata": {},
   "source": [
    "- Write a Lambda function for the above operation"
   ]
  },
  {
   "cell_type": "code",
   "execution_count": 114,
   "metadata": {},
   "outputs": [
    {
     "data": {
      "text/plain": [
       "{'bob': 1, 'alan': 2, 'danny': 3, 'carl': 40}"
      ]
     },
     "execution_count": 114,
     "metadata": {},
     "output_type": "execute_result"
    }
   ],
   "source": [
    "mydict = {'carl':40,\n",
    "          'alan':2,\n",
    "          'bob':1,\n",
    "          'danny':3}\n",
    "sorted(mydict)\n",
    "dict(sorted(mydict.items(), key=lambda item: item[1]))"
   ]
  },
  {
   "cell_type": "markdown",
   "metadata": {},
   "source": [
    "- Sort the below dictionary based on the values"
   ]
  },
  {
   "cell_type": "code",
   "execution_count": 39,
   "metadata": {},
   "outputs": [],
   "source": [
    "mydict = {'carl':40,\n",
    "          'alan':2,\n",
    "          'bob':1,\n",
    "          'danny':3}\n"
   ]
  },
  {
   "cell_type": "code",
   "execution_count": null,
   "metadata": {},
   "outputs": [],
   "source": []
  }
 ],
 "metadata": {
  "anaconda-cloud": {},
  "kernelspec": {
   "display_name": "Python 3",
   "language": "python",
   "name": "python3"
  },
  "language_info": {
   "codemirror_mode": {
    "name": "ipython",
    "version": 3
   },
   "file_extension": ".py",
   "mimetype": "text/x-python",
   "name": "python",
   "nbconvert_exporter": "python",
   "pygments_lexer": "ipython3",
   "version": "3.7.6"
  }
 },
 "nbformat": 4,
 "nbformat_minor": 1
}
